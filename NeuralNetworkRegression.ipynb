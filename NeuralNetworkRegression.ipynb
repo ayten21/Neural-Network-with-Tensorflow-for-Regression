{
  "nbformat": 4,
  "nbformat_minor": 0,
  "metadata": {
    "colab": {
      "name": "NeuralNetworkRegression.ipynb",
      "provenance": [],
      "authorship_tag": "ABX9TyP8O9+RCN343b5IJKto44uV",
      "include_colab_link": true
    },
    "kernelspec": {
      "name": "python3",
      "display_name": "Python 3"
    },
    "language_info": {
      "name": "python"
    }
  },
  "cells": [
    {
      "cell_type": "markdown",
      "metadata": {
        "id": "view-in-github",
        "colab_type": "text"
      },
      "source": [
        "<a href=\"https://colab.research.google.com/github/ayten21/Neural-Network-with-Tensorflow-for-Regression/blob/main/NeuralNetworkRegression.ipynb\" target=\"_parent\"><img src=\"https://colab.research.google.com/assets/colab-badge.svg\" alt=\"Open In Colab\"/></a>"
      ]
    },
    {
      "cell_type": "code",
      "metadata": {
        "colab": {
          "base_uri": "https://localhost:8080/"
        },
        "id": "YAsCMhn6I7YO",
        "outputId": "8f86a5c9-21a6-4f76-f74e-d909d01361c8"
      },
      "source": [
        "import tensorflow as tf\n",
        "print(tf.__version__)\n",
        "import numpy as np\n",
        "import pandas as pd\n",
        "import matplotlib.pyplot as plt\n",
        "#after importing important libraries, we are creating our own dataset"
      ],
      "execution_count": 36,
      "outputs": [
        {
          "output_type": "stream",
          "name": "stdout",
          "text": [
            "2.6.0\n"
          ]
        }
      ]
    },
    {
      "cell_type": "code",
      "metadata": {
        "id": "DXG5a4sLJA69"
      },
      "source": [
        "X = np.arange(-110, 110, 3) \n",
        "y = np.arange(-100, 120, 3)"
      ],
      "execution_count": 2,
      "outputs": []
    },
    {
      "cell_type": "code",
      "metadata": {
        "colab": {
          "base_uri": "https://localhost:8080/"
        },
        "id": "oNd3SeQ1JC1Y",
        "outputId": "1ca462e3-3594-410e-dfb2-f9d799b1801a"
      },
      "source": [
        "#before we must check the shapesof our input and output data, they must be same\n",
        "X.shape, y.shape"
      ],
      "execution_count": 37,
      "outputs": [
        {
          "output_type": "execute_result",
          "data": {
            "text/plain": [
              "((74,), (74,))"
            ]
          },
          "metadata": {},
          "execution_count": 37
        }
      ]
    },
    {
      "cell_type": "code",
      "metadata": {
        "colab": {
          "base_uri": "https://localhost:8080/"
        },
        "id": "EWZhGObjJE_b",
        "outputId": "1ad9184c-2d64-4171-bb33-48cd5519239d"
      },
      "source": [
        "len(X)\n",
        "X_train = X[:60]\n",
        "y_train = y[:60]\n",
        "X_test = X[60:]\n",
        "y_test = y[60:]\n",
        "len(X_train), len(X_test)"
      ],
      "execution_count": 5,
      "outputs": [
        {
          "output_type": "execute_result",
          "data": {
            "text/plain": [
              "(60, 14)"
            ]
          },
          "metadata": {},
          "execution_count": 5
        }
      ]
    },
    {
      "cell_type": "code",
      "metadata": {
        "colab": {
          "base_uri": "https://localhost:8080/",
          "height": 391
        },
        "id": "veJhiH8YJKYs",
        "outputId": "54fe1321-0a6c-4b0e-a062-19a9e188f8a4"
      },
      "source": [
        "#visualize visualize visualize\n",
        "plt.figure( figsize = (12,6))\n",
        "plt.scatter(X_train, y_train, c='b', label = 'Training data')\n",
        "plt.scatter(X_test, y_test, c='g', label='Testing data')\n",
        "plt.legend()"
      ],
      "execution_count": 38,
      "outputs": [
        {
          "output_type": "execute_result",
          "data": {
            "text/plain": [
              "<matplotlib.legend.Legend at 0x7f9d40551e10>"
            ]
          },
          "metadata": {},
          "execution_count": 38
        },
        {
          "output_type": "display_data",
          "data": {
            "image/png": "[encoded data removed]",
            "text/plain": [
              "<Figure size 864x432 with 1 Axes>"
            ]
          },
          "metadata": {
            "needs_background": "light"
          }
        }
      ]
    },
    {
      "cell_type": "code",
      "metadata": {
        "colab": {
          "base_uri": "https://localhost:8080/"
        },
        "id": "dU2cw4VEJNKB",
        "outputId": "bab0424e-29b2-4837-9452-6cd5f88cd0e4"
      },
      "source": [
        "tf.random.set_seed(42)  #first we set random seed\n",
        "model = tf.keras.Sequential([\n",
        "                             tf.keras.layers.Dense(1)\n",
        "])\n",
        "model.compile( loss = tf.keras.losses.mae, #mae stands for mean absolute error\n",
        "              optimizer = tf.keras.optimizers.SGD(), #stochastic GD\n",
        "              metrics = ['mae'])\n",
        "model.fit( X_train, y_train, epochs = 10)"
      ],
      "execution_count": 7,
      "outputs": [
        {
          "output_type": "stream",
          "name": "stdout",
          "text": [
            "Epoch 1/10\n",
            "2/2 [==============================] - 1s 10ms/step - loss: 14.2691 - mae: 14.2691\n",
            "Epoch 2/10\n",
            "2/2 [==============================] - 0s 7ms/step - loss: 11.4816 - mae: 11.4816\n",
            "Epoch 3/10\n",
            "2/2 [==============================] - 0s 5ms/step - loss: 11.9457 - mae: 11.9457\n",
            "Epoch 4/10\n",
            "2/2 [==============================] - 0s 6ms/step - loss: 11.4454 - mae: 11.4454\n",
            "Epoch 5/10\n",
            "2/2 [==============================] - 0s 4ms/step - loss: 10.5982 - mae: 10.5982\n",
            "Epoch 6/10\n",
            "2/2 [==============================] - 0s 6ms/step - loss: 11.0030 - mae: 11.0030\n",
            "Epoch 7/10\n",
            "2/2 [==============================] - 0s 6ms/step - loss: 14.5564 - mae: 14.5564\n",
            "Epoch 8/10\n",
            "2/2 [==============================] - 0s 7ms/step - loss: 12.4001 - mae: 12.4001\n",
            "Epoch 9/10\n",
            "2/2 [==============================] - 0s 10ms/step - loss: 8.9780 - mae: 8.9780\n",
            "Epoch 10/10\n",
            "2/2 [==============================] - 0s 3ms/step - loss: 10.9169 - mae: 10.9169\n"
          ]
        },
        {
          "output_type": "execute_result",
          "data": {
            "text/plain": [
              "<keras.callbacks.History at 0x7f9d41ac4790>"
            ]
          },
          "metadata": {},
          "execution_count": 7
        }
      ]
    },
    {
      "cell_type": "code",
      "metadata": {
        "colab": {
          "base_uri": "https://localhost:8080/"
        },
        "id": "uajucoHeJQEm",
        "outputId": "8b36bd71-cf76-44c9-bf7c-6322c5e49ebc"
      },
      "source": [
        "model.predict([130])\n",
        "#the output should have been close to 140, it is not close enough, so let's start to improve our model"
      ],
      "execution_count": 39,
      "outputs": [
        {
          "output_type": "execute_result",
          "data": {
            "text/plain": [
              "array([[126.92796]], dtype=float32)"
            ]
          },
          "metadata": {},
          "execution_count": 39
        }
      ]
    },
    {
      "cell_type": "code",
      "metadata": {
        "colab": {
          "base_uri": "https://localhost:8080/"
        },
        "id": "X8wYAGPqJXlL",
        "outputId": "66de70f0-a30a-4701-8e2e-34e620e91be8"
      },
      "source": [
        "tf.random.set_seed(42)\n",
        "model_1 = tf.keras.Sequential([\n",
        "                               tf.keras.layers.Dense(1)\n",
        "])\n",
        "model_1.compile( loss = tf.keras.losses.mae,\n",
        "                optimizer = tf.keras.optimizers.SGD(),\n",
        "                metrics = ['mae'])\n",
        "model_1.fit( X_train, y_train, epochs = 100, verbose = 0)"
      ],
      "execution_count": 9,
      "outputs": [
        {
          "output_type": "execute_result",
          "data": {
            "text/plain": [
              "<keras.callbacks.History at 0x7f9d4029e890>"
            ]
          },
          "metadata": {},
          "execution_count": 9
        }
      ]
    },
    {
      "cell_type": "code",
      "metadata": {
        "colab": {
          "base_uri": "https://localhost:8080/"
        },
        "id": "OQUGhBgvJaTR",
        "outputId": "315d136f-3ddd-4d6b-bfc2-0428d55cbf7f"
      },
      "source": [
        "preds = model_1.predict(X_test)\n",
        "preds"
      ],
      "execution_count": 10,
      "outputs": [
        {
          "output_type": "execute_result",
          "data": {
            "text/plain": [
              "array([[ 81.19372 ],\n",
              "       [ 84.61617 ],\n",
              "       [ 88.03863 ],\n",
              "       [ 91.46108 ],\n",
              "       [ 94.88354 ],\n",
              "       [ 98.306   ],\n",
              "       [101.728455],\n",
              "       [105.15091 ],\n",
              "       [108.573364],\n",
              "       [111.99582 ],\n",
              "       [115.418274],\n",
              "       [118.84073 ],\n",
              "       [122.26318 ],\n",
              "       [125.68564 ]], dtype=float32)"
            ]
          },
          "metadata": {},
          "execution_count": 10
        }
      ]
    },
    {
      "cell_type": "code",
      "metadata": {
        "id": "q6kxHLt_JdKE"
      },
      "source": [
        "#write a function in order to visualize upcoming models easily\n",
        "def plot_preds(traindata = X_train,\n",
        "               trainlabels = y_train,\n",
        "               testdata = X_test,\n",
        "               testlabels = y_test,\n",
        "               predictions = preds):\n",
        "  plt.figure(figsize=(12,6))\n",
        "  plt.scatter(traindata, trainlabels, c=\"b\", label=\"Training data\")\n",
        "  plt.scatter(testdata, testlabels, c=\"g\", label=\"Testing data\")\n",
        "  plt.scatter(testdata, predictions, c=\"r\", label=\"Predictions\")\n",
        "  plt.legend()"
      ],
      "execution_count": 40,
      "outputs": []
    },
    {
      "cell_type": "code",
      "metadata": {
        "colab": {
          "base_uri": "https://localhost:8080/",
          "height": 374
        },
        "id": "uhMbgu6wJf0p",
        "outputId": "c87de732-f2e8-4aae-d4fb-2f5783d959cd"
      },
      "source": [
        "plot_preds(traindata = X_train,\n",
        "           trainlabels = y_train,\n",
        "           testdata = X_test,\n",
        "           testlabels = y_test,\n",
        "           predictions = preds)"
      ],
      "execution_count": 12,
      "outputs": [
        {
          "output_type": "display_data",
          "data": {
            "image/png": "[encoded data removed]",
            "text/plain": [
              "<Figure size 864x432 with 1 Axes>"
            ]
          },
          "metadata": {
            "needs_background": "light"
          }
        }
      ]
    },
    {
      "cell_type": "code",
      "metadata": {
        "colab": {
          "base_uri": "https://localhost:8080/"
        },
        "id": "orgvesWMJkvl",
        "outputId": "b66569bf-d6c6-4cf8-a412-fb2b76e4e55a"
      },
      "source": [
        "mae = tf.metrics.mean_absolute_error( y_true = y_test,\n",
        "                                      y_pred = preds)\n",
        "mae\n",
        "#mae should have been 1 value, something is wrong, let's check the shapes"
      ],
      "execution_count": 41,
      "outputs": [
        {
          "output_type": "execute_result",
          "data": {
            "text/plain": [
              "<tf.Tensor: shape=(14,), dtype=float32, numpy=\n",
              "array([18.47681 , 15.774162, 13.620784, 12.016679, 10.961846, 10.5     ,\n",
              "       10.604065, 11.257402, 12.460013, 14.211897, 16.513052, 19.363482,\n",
              "       22.763184, 26.185638], dtype=float32)>"
            ]
          },
          "metadata": {},
          "execution_count": 41
        }
      ]
    },
    {
      "cell_type": "code",
      "metadata": {
        "colab": {
          "base_uri": "https://localhost:8080/"
        },
        "id": "mo_EomZMJqsH",
        "outputId": "4afa3701-d26c-48ee-dda5-254672022d08"
      },
      "source": [
        "y_test.shape, preds.shape"
      ],
      "execution_count": 14,
      "outputs": [
        {
          "output_type": "execute_result",
          "data": {
            "text/plain": [
              "((14,), (14, 1))"
            ]
          },
          "metadata": {},
          "execution_count": 14
        }
      ]
    },
    {
      "cell_type": "code",
      "metadata": {
        "colab": {
          "base_uri": "https://localhost:8080/"
        },
        "id": "kzc9seG_JuZu",
        "outputId": "31ca5803-26c5-408c-e6ef-27022a2c05a7"
      },
      "source": [
        "preds.squeeze().shape\n",
        "#we erase 1 dimension that way, now we can go on"
      ],
      "execution_count": 42,
      "outputs": [
        {
          "output_type": "execute_result",
          "data": {
            "text/plain": [
              "(14,)"
            ]
          },
          "metadata": {},
          "execution_count": 42
        }
      ]
    },
    {
      "cell_type": "code",
      "metadata": {
        "colab": {
          "base_uri": "https://localhost:8080/"
        },
        "id": "qmz51sC4JxCH",
        "outputId": "f33b84ee-5aae-46e3-d40a-cc95f4045712"
      },
      "source": [
        "mae = tf.metrics.mean_absolute_error(y_true=y_test, \n",
        "                                     y_pred=preds.squeeze()).numpy()\n",
        "mse = tf.metrics.mean_squared_error(y_true = y_test,\n",
        "                                      y_pred=preds.squeeze()).numpy()\n",
        "mae, mse"
      ],
      "execution_count": 16,
      "outputs": [
        {
          "output_type": "execute_result",
          "data": {
            "text/plain": [
              "(3.9396794, 18.42119)"
            ]
          },
          "metadata": {},
          "execution_count": 16
        }
      ]
    },
    {
      "cell_type": "code",
      "metadata": {
        "colab": {
          "base_uri": "https://localhost:8080/"
        },
        "id": "MY4ZOi3JJ0eC",
        "outputId": "c8fd5892-46af-4eca-9f8f-4d2548f5a4d5"
      },
      "source": [
        "tf.random.set_seed(42)\n",
        "model_2 = tf.keras.Sequential([\n",
        "                               tf.keras.layers.Dense(1),\n",
        "                               tf.keras.layers.Dense(1)\n",
        "])\n",
        "model_2.compile(loss=tf.keras.losses.mae,\n",
        "                optimizer=tf.keras.optimizers.SGD(),\n",
        "                metrics=['mae'])\n",
        "model_2.fit(X_train, y_train, epochs=100, verbose=0)"
      ],
      "execution_count": 17,
      "outputs": [
        {
          "output_type": "execute_result",
          "data": {
            "text/plain": [
              "<keras.callbacks.History at 0x7f9d41138e10>"
            ]
          },
          "metadata": {},
          "execution_count": 17
        }
      ]
    },
    {
      "cell_type": "code",
      "metadata": {
        "colab": {
          "base_uri": "https://localhost:8080/",
          "height": 374
        },
        "id": "lhJn1DJWJ3qz",
        "outputId": "e238b194-5285-4f6f-86b4-a155bc4967ff"
      },
      "source": [
        "preds_2 = model_2.predict(X_test)\n",
        "plot_preds(predictions=preds_2)"
      ],
      "execution_count": 18,
      "outputs": [
        {
          "output_type": "display_data",
          "data": {
            "image/png": "[encoded data removed]",
            "text/plain": [
              "<Figure size 864x432 with 1 Axes>"
            ]
          },
          "metadata": {
            "needs_background": "light"
          }
        }
      ]
    },
    {
      "cell_type": "code",
      "metadata": {
        "colab": {
          "base_uri": "https://localhost:8080/"
        },
        "id": "zhtSqVq5J6LJ",
        "outputId": "b33a94d6-5eff-44d6-b6e1-15d422894e81"
      },
      "source": [
        "mae_2 = tf.metrics.mean_absolute_error(y_true=y_test, \n",
        "                                     y_pred=preds_2.squeeze()).numpy()\n",
        "mse_2 = tf.metrics.mean_squared_error(y_true = y_test,\n",
        "                                      y_pred=preds_2.squeeze()).numpy()\n",
        "mae_2,mse_2"
      ],
      "execution_count": 19,
      "outputs": [
        {
          "output_type": "execute_result",
          "data": {
            "text/plain": [
              "(41.150764, 1738.0294)"
            ]
          },
          "metadata": {},
          "execution_count": 19
        }
      ]
    },
    {
      "cell_type": "code",
      "metadata": {
        "colab": {
          "base_uri": "https://localhost:8080/"
        },
        "id": "IYblmR3ZJ8ka",
        "outputId": "342429c9-3647-4b9e-a7e5-5e96d0824dea"
      },
      "source": [
        "tf.random.set_seed(42)\n",
        "model_3 = tf.keras.Sequential([\n",
        "  tf.keras.layers.Dense(1),\n",
        "  tf.keras.layers.Dense(1)\n",
        "])\n",
        "model_3.compile(loss=tf.keras.losses.mae,\n",
        "                optimizer=tf.keras.optimizers.Adam(),\n",
        "                metrics=['mae'])\n",
        "model_3.fit(X_train, y_train, epochs=100, verbose=0)"
      ],
      "execution_count": 20,
      "outputs": [
        {
          "output_type": "execute_result",
          "data": {
            "text/plain": [
              "<keras.callbacks.History at 0x7f9d4187bd50>"
            ]
          },
          "metadata": {},
          "execution_count": 20
        }
      ]
    },
    {
      "cell_type": "code",
      "metadata": {
        "id": "6peFpQTzKS8D"
      },
      "source": [
        "preds_3 = model_3.predict(X_test)"
      ],
      "execution_count": 22,
      "outputs": []
    },
    {
      "cell_type": "code",
      "metadata": {
        "colab": {
          "base_uri": "https://localhost:8080/"
        },
        "id": "uxDv-Z1hJ_9l",
        "outputId": "aac0ad2e-ca6d-4e3e-b856-75f3225adf65"
      },
      "source": [
        "mae_3 = tf.metrics.mean_absolute_error(y_true=y_test, \n",
        "                                     y_pred=preds_3.squeeze()).numpy()\n",
        "mse_3 = tf.metrics.mean_squared_error(y_true = y_test,\n",
        "                                      y_pred=preds_3.squeeze()).numpy()\n",
        "mae_3,mse_3"
      ],
      "execution_count": 23,
      "outputs": [
        {
          "output_type": "execute_result",
          "data": {
            "text/plain": [
              "(39.64795, 1587.9797)"
            ]
          },
          "metadata": {},
          "execution_count": 23
        }
      ]
    },
    {
      "cell_type": "code",
      "metadata": {
        "colab": {
          "base_uri": "https://localhost:8080/"
        },
        "id": "yHqyb5xuKDRx",
        "outputId": "f5e698d3-b769-4350-9c93-e46663de067d"
      },
      "source": [
        "tf.random.set_seed(42)\n",
        "model_4 = tf.keras.Sequential([\n",
        "                               tf.keras.layers.Dense(100),\n",
        "                               tf.keras.layers.Dense(10),\n",
        "                               tf.keras.layers.Dense(1)\n",
        "])\n",
        "model_4.compile(loss=tf.keras.losses.mae,\n",
        "                optimizer=tf.keras.optimizers.Adam(),\n",
        "                metrics=['mae'])\n",
        "model_4.fit(X_train, y_train, epochs=100, verbose=0)\n"
      ],
      "execution_count": 24,
      "outputs": [
        {
          "output_type": "execute_result",
          "data": {
            "text/plain": [
              "<keras.callbacks.History at 0x7f9d4161cbd0>"
            ]
          },
          "metadata": {},
          "execution_count": 24
        }
      ]
    },
    {
      "cell_type": "code",
      "metadata": {
        "colab": {
          "base_uri": "https://localhost:8080/",
          "height": 411
        },
        "id": "NG1hRGIWPDXx",
        "outputId": "281baea4-a899-4f5a-abd2-d133a715d474"
      },
      "source": [
        "preds_4 = model_4.predict(X_test)\n",
        "plot_preds(predictions=preds_4)"
      ],
      "execution_count": 25,
      "outputs": [
        {
          "output_type": "stream",
          "name": "stdout",
          "text": [
            "WARNING:tensorflow:5 out of the last 5 calls to <function Model.make_predict_function.<locals>.predict_function at 0x7f9d415c2c20> triggered tf.function retracing. Tracing is expensive and the excessive number of tracings could be due to (1) creating @tf.function repeatedly in a loop, (2) passing tensors with different shapes, (3) passing Python objects instead of tensors. For (1), please define your @tf.function outside of the loop. For (2), @tf.function has experimental_relax_shapes=True option that relaxes argument shapes that can avoid unnecessary retracing. For (3), please refer to https://www.tensorflow.org/guide/function#controlling_retracing and https://www.tensorflow.org/api_docs/python/tf/function for  more details.\n"
          ]
        },
        {
          "output_type": "display_data",
          "data": {
            "image/png": "[encoded data removed]",
            "text/plain": [
              "<Figure size 864x432 with 1 Axes>"
            ]
          },
          "metadata": {
            "needs_background": "light"
          }
        }
      ]
    },
    {
      "cell_type": "code",
      "metadata": {
        "colab": {
          "base_uri": "https://localhost:8080/"
        },
        "id": "DEXug1DuPI_5",
        "outputId": "dff347cb-725b-4b25-ff53-47b0021c144b"
      },
      "source": [
        "mae_4 = tf.metrics.mean_absolute_error(y_true=y_test, \n",
        "                                     y_pred=preds_4.squeeze()).numpy()\n",
        "mse_4 = tf.metrics.mean_squared_error(y_true = y_test,\n",
        "                                      y_pred=preds_4.squeeze()).numpy()\n",
        "mae_4,mse_4"
      ],
      "execution_count": 26,
      "outputs": [
        {
          "output_type": "execute_result",
          "data": {
            "text/plain": [
              "(8.184728, 67.23798)"
            ]
          },
          "metadata": {},
          "execution_count": 26
        }
      ]
    },
    {
      "cell_type": "code",
      "metadata": {
        "colab": {
          "base_uri": "https://localhost:8080/"
        },
        "id": "bW0H6GVBPLo_",
        "outputId": "1de48437-26bc-427e-9247-354d326306cf"
      },
      "source": [
        "tf.random.set_seed(42)\n",
        "model_5 = tf.keras.Sequential([\n",
        "  tf.keras.layers.Dense(10, activation = tf.keras.activations.relu),\n",
        "  tf.keras.layers.Dense(1)\n",
        "])\n",
        "model_5.compile(loss=tf.keras.losses.mae,\n",
        "                optimizer=tf.keras.optimizers.Adam(),\n",
        "                metrics=['mae'])\n",
        "model_5.fit(X_train, y_train, epochs=100, verbose=0)"
      ],
      "execution_count": 27,
      "outputs": [
        {
          "output_type": "execute_result",
          "data": {
            "text/plain": [
              "<keras.callbacks.History at 0x7f9d415dac10>"
            ]
          },
          "metadata": {},
          "execution_count": 27
        }
      ]
    },
    {
      "cell_type": "code",
      "metadata": {
        "colab": {
          "base_uri": "https://localhost:8080/"
        },
        "id": "SrLU-9hoPPr2",
        "outputId": "a6fc1cec-2c61-4896-f34b-668e477dde3f"
      },
      "source": [
        "preds_5 = model_5.predict(X_test)"
      ],
      "execution_count": 28,
      "outputs": [
        {
          "output_type": "stream",
          "name": "stdout",
          "text": [
            "WARNING:tensorflow:6 out of the last 6 calls to <function Model.make_predict_function.<locals>.predict_function at 0x7f9d41899320> triggered tf.function retracing. Tracing is expensive and the excessive number of tracings could be due to (1) creating @tf.function repeatedly in a loop, (2) passing tensors with different shapes, (3) passing Python objects instead of tensors. For (1), please define your @tf.function outside of the loop. For (2), @tf.function has experimental_relax_shapes=True option that relaxes argument shapes that can avoid unnecessary retracing. For (3), please refer to https://www.tensorflow.org/guide/function#controlling_retracing and https://www.tensorflow.org/api_docs/python/tf/function for  more details.\n"
          ]
        }
      ]
    },
    {
      "cell_type": "code",
      "metadata": {
        "colab": {
          "base_uri": "https://localhost:8080/"
        },
        "id": "qL4-1u9WPT99",
        "outputId": "b55c5e1e-1254-411f-b93f-41b4cd1bb374"
      },
      "source": [
        "mae_5 = tf.metrics.mean_absolute_error(y_true=y_test, \n",
        "                                     y_pred=preds_5.squeeze()).numpy()\n",
        "mse_5 = tf.metrics.mean_squared_error(y_true = y_test,\n",
        "                                      y_pred=preds_5.squeeze()).numpy()\n",
        "mae_5, mse_5"
      ],
      "execution_count": 29,
      "outputs": [
        {
          "output_type": "execute_result",
          "data": {
            "text/plain": [
              "(8.17538, 72.70614)"
            ]
          },
          "metadata": {},
          "execution_count": 29
        }
      ]
    },
    {
      "cell_type": "code",
      "metadata": {
        "colab": {
          "base_uri": "https://localhost:8080/"
        },
        "id": "Dd-l6V1DPVcP",
        "outputId": "daccc924-7dec-4981-96ba-b4717e558b36"
      },
      "source": [
        "tf.random.set_seed(42)\n",
        "model_6 = tf.keras.Sequential([\n",
        "  tf.keras.layers.Dense(100, activation = tf.keras.activations.relu),\n",
        "  tf.keras.layers.Dense(10),\n",
        "  tf.keras.layers.Dense(1)\n",
        "])\n",
        "model_6.compile(loss=tf.keras.losses.mae,\n",
        "                optimizer=tf.keras.optimizers.SGD(),\n",
        "                metrics=['mae'])\n",
        "model_6.fit(X_train, y_train, epochs=100, verbose=0)"
      ],
      "execution_count": 30,
      "outputs": [
        {
          "output_type": "execute_result",
          "data": {
            "text/plain": [
              "<keras.callbacks.History at 0x7f9d406c0dd0>"
            ]
          },
          "metadata": {},
          "execution_count": 30
        }
      ]
    },
    {
      "cell_type": "code",
      "metadata": {
        "colab": {
          "base_uri": "https://localhost:8080/"
        },
        "id": "j0ySM13JPZ5t",
        "outputId": "f3f402b6-1e57-4236-c08b-e760ba7c18ee"
      },
      "source": [
        "preds_6 = model_6.predict(X_test)\n",
        "mae_6 = tf.metrics.mean_absolute_error(y_true=y_test, \n",
        "                                     y_pred=preds_6.squeeze()).numpy()\n",
        "mse_6 = tf.metrics.mean_squared_error(y_true = y_test,\n",
        "                                      y_pred=preds_6.squeeze()).numpy()\n",
        "mae_6, mse_6"
      ],
      "execution_count": 31,
      "outputs": [
        {
          "output_type": "execute_result",
          "data": {
            "text/plain": [
              "(1.4528008, 3.1021771)"
            ]
          },
          "metadata": {},
          "execution_count": 31
        }
      ]
    },
    {
      "cell_type": "code",
      "metadata": {
        "colab": {
          "base_uri": "https://localhost:8080/",
          "height": 374
        },
        "id": "RmWkUElsPb8h",
        "outputId": "16ec2576-022e-4511-9610-76e004ec2b03"
      },
      "source": [
        "plot_preds(predictions=preds_6)\n",
        "#almost perfect predictions! ALways keep working, trying and improving, that will work"
      ],
      "execution_count": 43,
      "outputs": [
        {
          "output_type": "display_data",
          "data": {
            "image/png": "[encoded data removed]",
            "text/plain": [
              "<Figure size 864x432 with 1 Axes>"
            ]
          },
          "metadata": {
            "needs_background": "light"
          }
        }
      ]
    },
    {
      "cell_type": "code",
      "metadata": {
        "id": "QkmDZ8uRPe7Q"
      },
      "source": [
        "model_results = [['model_1', mae, mse],\n",
        "                 ['model_2', mae_2, mse_2],\n",
        "                 ['model_3', mae_3, mse_3], \n",
        "                 ['model_4', mae_4, mse_4], \n",
        "                 ['model_5', mae_5, mse_5],\n",
        "                 ['model_6', mae_6, mse_6]] "
      ],
      "execution_count": 33,
      "outputs": []
    },
    {
      "cell_type": "code",
      "metadata": {
        "colab": {
          "base_uri": "https://localhost:8080/",
          "height": 235
        },
        "id": "EEBDJwf3Pk6U",
        "outputId": "575192b4-2d12-4cc3-a40d-475c7a660247"
      },
      "source": [
        "all_results = pd.DataFrame(model_results, columns=[\"model\", \"mae\", \"mse\"])\n",
        "all_results"
      ],
      "execution_count": 35,
      "outputs": [
        {
          "output_type": "execute_result",
          "data": {
            "text/html": [
              "<div>\n",
              "<style scoped>\n",
              "    .dataframe tbody tr th:only-of-type {\n",
              "        vertical-align: middle;\n",
              "    }\n",
              "\n",
              "    .dataframe tbody tr th {\n",
              "        vertical-align: top;\n",
              "    }\n",
              "\n",
              "    .dataframe thead th {\n",
              "        text-align: right;\n",
              "    }\n",
              "</style>\n",
              "<table border=\"1\" class=\"dataframe\">\n",
              "  <thead>\n",
              "    <tr style=\"text-align: right;\">\n",
              "      <th></th>\n",
              "      <th>model</th>\n",
              "      <th>mae</th>\n",
              "      <th>mse</th>\n",
              "    </tr>\n",
              "  </thead>\n",
              "  <tbody>\n",
              "    <tr>\n",
              "      <th>0</th>\n",
              "      <td>model_1</td>\n",
              "      <td>3.939679</td>\n",
              "      <td>18.421190</td>\n",
              "    </tr>\n",
              "    <tr>\n",
              "      <th>1</th>\n",
              "      <td>model_2</td>\n",
              "      <td>41.150764</td>\n",
              "      <td>1738.029419</td>\n",
              "    </tr>\n",
              "    <tr>\n",
              "      <th>2</th>\n",
              "      <td>model_3</td>\n",
              "      <td>39.647949</td>\n",
              "      <td>1587.979736</td>\n",
              "    </tr>\n",
              "    <tr>\n",
              "      <th>3</th>\n",
              "      <td>model_4</td>\n",
              "      <td>8.184728</td>\n",
              "      <td>67.237984</td>\n",
              "    </tr>\n",
              "    <tr>\n",
              "      <th>4</th>\n",
              "      <td>model_5</td>\n",
              "      <td>8.175380</td>\n",
              "      <td>72.706139</td>\n",
              "    </tr>\n",
              "    <tr>\n",
              "      <th>5</th>\n",
              "      <td>model_6</td>\n",
              "      <td>1.452801</td>\n",
              "      <td>3.102177</td>\n",
              "    </tr>\n",
              "  </tbody>\n",
              "</table>\n",
              "</div>"
            ],
            "text/plain": [
              "     model        mae          mse\n",
              "0  model_1   3.939679    18.421190\n",
              "1  model_2  41.150764  1738.029419\n",
              "2  model_3  39.647949  1587.979736\n",
              "3  model_4   8.184728    67.237984\n",
              "4  model_5   8.175380    72.706139\n",
              "5  model_6   1.452801     3.102177"
            ]
          },
          "metadata": {},
          "execution_count": 35
        }
      ]
    },
    {
      "cell_type": "code",
      "metadata": {
        "id": "ObhAmvQ6PttK"
      },
      "source": [
        ""
      ],
      "execution_count": null,
      "outputs": []
    }
  ]
}